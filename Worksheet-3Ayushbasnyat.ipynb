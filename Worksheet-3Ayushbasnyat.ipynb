{
  "nbformat": 4,
  "nbformat_minor": 0,
  "metadata": {
    "colab": {
      "provenance": []
    },
    "kernelspec": {
      "name": "python3",
      "display_name": "Python 3"
    },
    "language_info": {
      "name": "python"
    }
  },
  "cells": [
    {
      "cell_type": "code",
      "source": [
        "import pandas as pd\n",
        "\n",
        "dataset = pd.read_csv(\"/content/drive/MyDrive/Datasets/Titanic-Dataset.csv\")"
      ],
      "metadata": {
        "id": "_ateHAt3Xez3"
      },
      "execution_count": 2,
      "outputs": []
    },
    {
      "cell_type": "markdown",
      "source": [
        "Problem 1 - Sorting:\n",
        "\n",
        "1. Create a DataFrame called fare that contains only the Fare column of the Titanic dataset. Print the head of the result.\n",
        "\n",
        "2. Create a DataFrame called class age that contains only the Pclass and Age columns of the Titanic dataset, in that order. Print the head of the result.\n",
        "\n",
        "3. Create a DataFrame called survived gender that contains the Survived and Sex columns of the Titanic dataset, in that order.Print the head of the result."
      ],
      "metadata": {
        "id": "sJUJ3kpzZn0n"
      }
    },
    {
      "cell_type": "code",
      "source": [
        "#1\n",
        "fare = dataset[[\"Fare\"]]\n",
        "fare.head()\n"
      ],
      "metadata": {
        "id": "rp6plfcxXqrW"
      },
      "execution_count": null,
      "outputs": []
    },
    {
      "cell_type": "code",
      "source": [
        "#2\n",
        "class_age = dataset[[\"Pclass\", \"Age\"]]\n",
        "class_age.head()"
      ],
      "metadata": {
        "id": "RTC4xNaaX4lD"
      },
      "execution_count": null,
      "outputs": []
    },
    {
      "cell_type": "code",
      "source": [
        "#3\n",
        "survived_gender = dataset[[\"Survived\", \"Sex\"]]\n",
        "survived_gender.head()"
      ],
      "metadata": {
        "id": "4bD-R0DqX6uH"
      },
      "execution_count": null,
      "outputs": []
    },
    {
      "cell_type": "markdown",
      "source": [
        "Problem - 2 - Subsetting:\n",
        "\n",
        "Complete all the following Task:\n",
        "Subsetting Rows:\n",
        "\n",
        "1. Filter the Titanic dataset for cases where the passenger’s fare is greater than 100, assigning it\n",
        "to fare gt 100.View the printed result.\n",
        "\n",
        "2. Filter the Titanic dataset for cases where the passenger’s class (Pclass) is 1, assigning it to\n",
        "first class.View the printed result.\n",
        "\n",
        "3. Filter the Titanic dataset for cases where the passenger’s age is less than 18 and the passenger\n",
        "is female (Sex is \"female\"), assigning it to female under 18. View the printed result."
      ],
      "metadata": {
        "id": "cR3l11UgZfCq"
      }
    },
    {
      "cell_type": "code",
      "source": [
        "#1\n",
        "fare_gt_100 = dataset[dataset[\"Fare\"] > 100]\n",
        "fare_gt_100.head()"
      ],
      "metadata": {
        "id": "tAkizPm2X_H9"
      },
      "execution_count": null,
      "outputs": []
    },
    {
      "cell_type": "code",
      "source": [
        "#2\n",
        "first_class = dataset[dataset['Pclass'] == 1]\n",
        "first_class.head()"
      ],
      "metadata": {
        "id": "fLpat8XBYB5-"
      },
      "execution_count": null,
      "outputs": []
    },
    {
      "cell_type": "code",
      "source": [
        "#3\n",
        "female_under_18 = dataset[(dataset['Age'] < 18) & (dataset['Sex'] == 'female')]\n",
        "female_under_18.head()"
      ],
      "metadata": {
        "id": "jvBbRIfaYEcm"
      },
      "execution_count": null,
      "outputs": []
    },
    {
      "cell_type": "markdown",
      "source": [],
      "metadata": {
        "id": "Sp9-fxsqZ2sT"
      }
    },
    {
      "cell_type": "markdown",
      "source": [
        "Subsetting Rows by Categorical variables:\n",
        "1. Filter the Titanic dataset for passengers whose Embarked port is either \"C\" (Cherbourg) or \"S\"(Southampton), assigning the result to embarked c or s. View the printed result.\n",
        "\n",
        "2. Filter the Titanic dataset for passengers whose Pclass is in the list [1, 2] (indicating first or second class), assigning the result to first second class.View the printed result"
      ],
      "metadata": {
        "id": "sTEFIdJraAnz"
      }
    },
    {
      "cell_type": "code",
      "source": [
        "embarked_c_or_s = dataset[(dataset['Embarked'] == 'C') | (dataset['Embarked'] == 'S')]\n",
        "embarked_c_or_s.head()"
      ],
      "metadata": {
        "id": "nNY86PdNaGNP"
      },
      "execution_count": null,
      "outputs": []
    },
    {
      "cell_type": "code",
      "source": [
        "first_second_class = dataset[dataset['Pclass'].isin([1, 2])]\n",
        "first_second_class.head()"
      ],
      "metadata": {
        "id": "A4tDTNNWaLTH"
      },
      "execution_count": null,
      "outputs": []
    },
    {
      "cell_type": "markdown",
      "source": [
        "3.2 Exploratory Data Analysis Practice Exercise - 1.\n",
        "Warning: Handle missing values in the Age column by filling them with the median age of the dataset before performing the division.)\n",
        "\n",
        "Answer the following questions from Dataset:\n",
        "\n",
        "Which passenger had the highest fare paid relative to their age?\n",
        "To answer the question perform following operations:\n",
        "1. Add a column to the Titanic dataset, fare per year, containing the fare divided by the age of the passenger(i.e., Fare/Age).\n",
        "\n",
        "2. Subset rows where fare per year is higher than 5, assigning this to high fare age.\n",
        "\n",
        "3. Sort high fare age by descending fare per year, assigning this to high fare age srt.\n",
        "\n",
        "4. Select only the Name and fare per year columns of high fare age srt and save the result as result.\n",
        "\n",
        "5. Look at the result."
      ],
      "metadata": {
        "id": "ohfzOTTLaL_D"
      }
    },
    {
      "cell_type": "code",
      "source": [
        "dataset['Age'].fillna(dataset['Age'].median(), inplace=True)\n",
        "dataset['fare_per_year'] = dataset['Fare'] / dataset['Age']\n",
        "\n",
        "high_fare_age = dataset[dataset['fare_per_year'] > 5]\n",
        "\n",
        "high_fare_age_srt = high_fare_age.sort_values(by=['fare_per_year'], ascending=False)\n",
        "\n",
        "result = high_fare_age_srt[['Name', 'fare_per_year']]\n",
        "\n",
        "result.head()"
      ],
      "metadata": {
        "id": "HarIcKAMakkt"
      },
      "execution_count": null,
      "outputs": []
    },
    {
      "cell_type": "markdown",
      "source": [
        "Which adult male passenger (age ≥ 18 and Sex is ’male’) paid the highest fare relative to their\n",
        "class?\n",
        "To answer the question perform following operations:\n",
        "1. Add a column to the Titanic dataset, fare per class, containing the fare divided by the passenger class i.e. Fare / Pclass.\n",
        "\n",
        "2. Subset rows where the passenger is male (Sex is ”male”) and an adult (Age is greater than or equal to 18), assigning this to adult males.\n",
        "\n",
        "3. Sort adult males by descending fare per class, assigning this to adult males srt.\n",
        "\n",
        "4. Select only the Name, Age, and fare per class columns of adult males sr and save the result as result.\n",
        "\n",
        "5. Look at the result."
      ],
      "metadata": {
        "id": "Zt3PL0Ozasbg"
      }
    },
    {
      "cell_type": "code",
      "source": [
        "dataset['fare_per_class'] = dataset['Fare'] / dataset['Pclass']\n",
        "\n",
        "adult_males = dataset[(dataset['Sex'] == 'male') & (dataset['Age'] >= 18)]\n",
        "\n",
        "adult_males_srt = adult_males.sort_values(by=['fare_per_class'], ascending=False)\n",
        "\n",
        "result = adult_males_srt[['Name', 'Age', 'fare_per_class']]\n",
        "\n",
        "result.head()"
      ],
      "metadata": {
        "colab": {
          "base_uri": "https://localhost:8080/"
        },
        "id": "HQcrVHDpa8SY",
        "outputId": "5b7ed0c2-5bfc-4a52-ae7a-f232906f993c"
      },
      "execution_count": 3,
      "outputs": [
        {
          "output_type": "stream",
          "name": "stdout",
          "text": [
            "Percentage of total fare revenue by passenger class:\n",
            "First Class: 63.35%\n",
            "Second Class: 13.25%\n",
            "Third Class: 23.40%\n"
          ]
        }
      ]
    },
    {
      "cell_type": "markdown",
      "source": [
        "3.3 Exploratory Data Analysis with Group-by Method Practice Exercise:\n",
        "Based on the dataset Answer the following question:\n",
        "\n",
        "What percent of the total fare revenue came from each passenger class?\n",
        "To answer the question perform following operation:\n",
        "\n",
        "1. Calculate the total Fare paid across all passengers in the Titanic dataset.\n",
        "\n",
        "2. Subset for passengers in first class (Pclass is 1) and calculate their total fare.\n",
        "\n",
        "3. Do the same for second class (Pclass is 2) and third class (Pclass is 3).\n",
        "\n",
        "4. Combine the fare totals from first, second, and third classes into a list.\n",
        "\n",
        "5. Divide the totals for each class by the overall total fare to get the proportion of fare revenue by class."
      ],
      "metadata": {
        "id": "pgbGq0v6bD5l"
      }
    },
    {
      "cell_type": "code",
      "source": [
        "total_fare = dataset['Fare'].sum()\n",
        "\n",
        "first_class_fare = dataset[dataset['Pclass'] == 1]['Fare'].sum()\n",
        "\n",
        "second_class_fare = dataset[dataset['Pclass'] == 2]['Fare'].sum()\n",
        "\n",
        "third_class_fare = dataset[dataset['Pclass'] == 3]['Fare'].sum()\n",
        "\n",
        "class_fares = [first_class_fare, second_class_fare, third_class_fare]\n",
        "\n",
        "class_proportions = [fare / total_fare * 100 for fare in class_fares]\n",
        "\n",
        "print(\"Percentage of total fare revenue by passenger class:\")\n",
        "print(\"First Class: {:.2f}%\".format(class_proportions[0]))\n",
        "print(\"Second Class: {:.2f}%\".format(class_proportions[1]))\n",
        "print(\"Third Class: {:.2f}%\".format(class_proportions[2]))"
      ],
      "metadata": {
        "id": "pCAmjdlMbI37"
      },
      "execution_count": null,
      "outputs": []
    },
    {
      "cell_type": "markdown",
      "source": [
        "What percent of the total number of passengers on the Titanic belonged to each age group (e.g., child, adult, senior)?\n",
        "To answer the question perform following operation:\n",
        "\n",
        "1. Create a new column, age group, that categorizes passengers into \"child\" (age < 18), \"adult\" (age 18{64), and \"senior\" (age 65 and above).\n",
        "\n",
        "2. Calculate the total number of passengers on the Titanic.\n",
        "\n",
        "3. Count the number of passengers in each age group.\n",
        "\n",
        "4. Divide the count of each age group by the total number of passengers to get the proportion of passengers in each age group.\n",
        "\n",
        "5. Display the proportion as a percentage ."
      ],
      "metadata": {
        "id": "kIzbKqqxbZTU"
      }
    },
    {
      "cell_type": "code",
      "source": [
        "dataset['age_group'] = pd.cut(dataset['Age'], bins=[0, 18, 65, float('inf')], labels=['child', 'adult', 'senior'])\n",
        "\n",
        "total_passengers = len(dataset)\n",
        "\n",
        "age_group_counts = dataset['age_group'].value_counts()\n",
        "\n",
        "age_group_proportions = (age_group_counts / total_passengers) * 100\n",
        "\n",
        "print(\"Percentage of passengers in each age group:\")\n",
        "print(age_group_proportions)"
      ],
      "metadata": {
        "id": "itrl3DDubmSb"
      },
      "execution_count": null,
      "outputs": []
    }
  ]
}